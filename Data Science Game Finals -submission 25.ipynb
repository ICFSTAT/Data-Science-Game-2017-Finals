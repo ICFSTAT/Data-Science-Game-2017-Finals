{
 "cells": [
  {
   "cell_type": "code",
   "execution_count": 33,
   "metadata": {
    "collapsed": true
   },
   "outputs": [],
   "source": [
    "import pandas as pd\n",
    "import lightgbm as lgb\n",
    "from sklearn import preprocessing\n",
    "from itertools import product"
   ]
  },
  {
   "cell_type": "code",
   "execution_count": 34,
   "metadata": {
    "collapsed": true
   },
   "outputs": [],
   "source": [
    "demanda=pd.read_csv(\"D:\\\\Data Science Game 2017 Finals\\\\demand_anonymized_20170802.csv\",sep=\";\")\n",
    "evaluation=pd.read_csv(\"D:\\\\Data Science Game 2017 Finals\\\\eval_correct.csv\")\n",
    "sample_submission=pd.read_csv(\"D:\\\\Data Science Game 2017 Finals\\\\sample_submission.csv\")"
   ]
  },
  {
   "cell_type": "code",
   "execution_count": 35,
   "metadata": {},
   "outputs": [
    {
     "data": {
      "text/plain": [
       "Nc4e    3462055\n",
       "hfuf    1360032\n",
       "XRJD     752676\n",
       "Name: LogABC, dtype: int64"
      ]
     },
     "execution_count": 35,
     "metadata": {},
     "output_type": "execute_result"
    }
   ],
   "source": [
    "demanda[\"LogABC\"].value_counts()"
   ]
  },
  {
   "cell_type": "code",
   "execution_count": 36,
   "metadata": {},
   "outputs": [
    {
     "data": {
      "text/plain": [
       "9rfJ    1907808\n",
       "vegq    1596658\n",
       "OG0i    1141219\n",
       "ARa9     874703\n",
       "IttB      75313\n",
       "Name: MktABC, dtype: int64"
      ]
     },
     "execution_count": 36,
     "metadata": {},
     "output_type": "execute_result"
    }
   ],
   "source": [
    "demanda[\"MktABC\"].value_counts()"
   ]
  },
  {
   "cell_type": "code",
   "execution_count": 37,
   "metadata": {},
   "outputs": [
    {
     "data": {
      "text/plain": [
       "First_MAD                       0\n",
       "SalOrg                          0\n",
       "DC                              0\n",
       "Ship_To                         0\n",
       "ordre                           0\n",
       "Plant                           0\n",
       "Material                        0\n",
       "ItemCat                         0\n",
       "OrderQty                        0\n",
       "LT                              1\n",
       "LogABC                      20938\n",
       "MOQ                             1\n",
       "ROP                             1\n",
       "SafetyStk                       1\n",
       "PL                              0\n",
       "MktABC                          0\n",
       "SubFct                          0\n",
       "Gross_Weight                    0\n",
       "Length                          0\n",
       "Width                           0\n",
       "Height                          0\n",
       "Volume                          0\n",
       "Gamma                           0\n",
       "Manufacturer                    0\n",
       "Business                        0\n",
       "Month                           0\n",
       "CBO_CBO_Qty_Shortage      2871107\n",
       "Age_ZN_ZI_years           3741938\n",
       "DP_FAMILY_CODE            1952528\n",
       "PRODUCT_STATUS            1952528\n",
       "ORIGINAL_SUPPLIER         1952528\n",
       "SUBRANGE                  1952528\n",
       "Comp_reference_number      337510\n",
       "Name_Of_Competitor         337510\n",
       "COMP_PRICE_MIN            3474317\n",
       "COMP_PRICE_AVG            3474317\n",
       "COMP_PRICE_MAX            3474317\n",
       "PRICE                     3206831\n",
       "NEAREST_COMP_PRICE_MIN    3474317\n",
       "NEAREST_COMP_PRICE_MAX    3474317\n",
       "dtype: int64"
      ]
     },
     "execution_count": 37,
     "metadata": {},
     "output_type": "execute_result"
    }
   ],
   "source": [
    "\n",
    "del demanda[\"ID\"]\n",
    "\n",
    "demanda.isnull().sum()"
   ]
  },
  {
   "cell_type": "code",
   "execution_count": 38,
   "metadata": {},
   "outputs": [
    {
     "data": {
      "text/plain": [
       "array(['2017-04', '2017-05', '2017-06'], dtype=object)"
      ]
     },
     "execution_count": 38,
     "metadata": {},
     "output_type": "execute_result"
    }
   ],
   "source": [
    "evaluation[\"date\"].unique()"
   ]
  },
  {
   "cell_type": "code",
   "execution_count": 39,
   "metadata": {},
   "outputs": [
    {
     "data": {
      "text/plain": [
       "63"
      ]
     },
     "execution_count": 39,
     "metadata": {},
     "output_type": "execute_result"
    }
   ],
   "source": [
    "len(demanda[\"Month\"].unique())"
   ]
  },
  {
   "cell_type": "code",
   "execution_count": 40,
   "metadata": {},
   "outputs": [
    {
     "data": {
      "text/plain": [
       "array(['iR1zr2', 'mD2b7j', 'AjywTn', ..., 'NI55wg', 'oPLnST', 'ja53gA'], dtype=object)"
      ]
     },
     "execution_count": 40,
     "metadata": {},
     "output_type": "execute_result"
    }
   ],
   "source": [
    "demanda[\"Material\"].unique()"
   ]
  },
  {
   "cell_type": "code",
   "execution_count": 41,
   "metadata": {},
   "outputs": [
    {
     "data": {
      "text/plain": [
       "14670"
      ]
     },
     "execution_count": 41,
     "metadata": {},
     "output_type": "execute_result"
    }
   ],
   "source": [
    "len(demanda[\"Material\"].unique())"
   ]
  },
  {
   "cell_type": "code",
   "execution_count": 42,
   "metadata": {},
   "outputs": [
    {
     "data": {
      "text/plain": [
       "array(['yqSu', 'U12J', 'OQfZ', '97LK'], dtype=object)"
      ]
     },
     "execution_count": 42,
     "metadata": {},
     "output_type": "execute_result"
    }
   ],
   "source": [
    "demanda[\"SalOrg\"].unique()"
   ]
  },
  {
   "cell_type": "code",
   "execution_count": 43,
   "metadata": {},
   "outputs": [
    {
     "data": {
      "text/plain": [
       "4"
      ]
     },
     "execution_count": 43,
     "metadata": {},
     "output_type": "execute_result"
    }
   ],
   "source": [
    "len(demanda[\"SalOrg\"].unique())"
   ]
  },
  {
   "cell_type": "code",
   "execution_count": 44,
   "metadata": {},
   "outputs": [
    {
     "data": {
      "text/html": [
       "<div>\n",
       "<style>\n",
       "    .dataframe thead tr:only-child th {\n",
       "        text-align: right;\n",
       "    }\n",
       "\n",
       "    .dataframe thead th {\n",
       "        text-align: left;\n",
       "    }\n",
       "\n",
       "    .dataframe tbody tr th {\n",
       "        vertical-align: top;\n",
       "    }\n",
       "</style>\n",
       "<table border=\"1\" class=\"dataframe\">\n",
       "  <thead>\n",
       "    <tr style=\"text-align: right;\">\n",
       "      <th></th>\n",
       "      <th>ID</th>\n",
       "      <th>SalOrg</th>\n",
       "      <th>Material</th>\n",
       "      <th>date</th>\n",
       "    </tr>\n",
       "  </thead>\n",
       "  <tbody>\n",
       "    <tr>\n",
       "      <th>116023</th>\n",
       "      <td>116023</td>\n",
       "      <td>yqSu</td>\n",
       "      <td>Zzmafz</td>\n",
       "      <td>2017-06</td>\n",
       "    </tr>\n",
       "    <tr>\n",
       "      <th>116024</th>\n",
       "      <td>116024</td>\n",
       "      <td>yqSu</td>\n",
       "      <td>zzOfA5</td>\n",
       "      <td>2017-06</td>\n",
       "    </tr>\n",
       "    <tr>\n",
       "      <th>116025</th>\n",
       "      <td>116025</td>\n",
       "      <td>yqSu</td>\n",
       "      <td>ZZu2jg</td>\n",
       "      <td>2017-06</td>\n",
       "    </tr>\n",
       "    <tr>\n",
       "      <th>116026</th>\n",
       "      <td>116026</td>\n",
       "      <td>yqSu</td>\n",
       "      <td>ZZuJB2</td>\n",
       "      <td>2017-06</td>\n",
       "    </tr>\n",
       "    <tr>\n",
       "      <th>116027</th>\n",
       "      <td>116027</td>\n",
       "      <td>yqSu</td>\n",
       "      <td>zzYnFP</td>\n",
       "      <td>2017-06</td>\n",
       "    </tr>\n",
       "  </tbody>\n",
       "</table>\n",
       "</div>"
      ],
      "text/plain": [
       "            ID SalOrg Material     date\n",
       "116023  116023   yqSu   Zzmafz  2017-06\n",
       "116024  116024   yqSu   zzOfA5  2017-06\n",
       "116025  116025   yqSu   ZZu2jg  2017-06\n",
       "116026  116026   yqSu   ZZuJB2  2017-06\n",
       "116027  116027   yqSu   zzYnFP  2017-06"
      ]
     },
     "execution_count": 44,
     "metadata": {},
     "output_type": "execute_result"
    }
   ],
   "source": [
    "evaluation.tail(5)#demanda[\"Month\"].unique(),demanda[\"Material\"].unique(),demanda[\"SalOrg\"].unique()"
   ]
  },
  {
   "cell_type": "code",
   "execution_count": 45,
   "metadata": {},
   "outputs": [
    {
     "data": {
      "text/plain": [
       "116028"
      ]
     },
     "execution_count": 45,
     "metadata": {},
     "output_type": "execute_result"
    }
   ],
   "source": [
    "len(evaluation)"
   ]
  },
  {
   "cell_type": "code",
   "execution_count": 46,
   "metadata": {},
   "outputs": [
    {
     "data": {
      "text/html": [
       "<div>\n",
       "<style>\n",
       "    .dataframe thead tr:only-child th {\n",
       "        text-align: right;\n",
       "    }\n",
       "\n",
       "    .dataframe thead th {\n",
       "        text-align: left;\n",
       "    }\n",
       "\n",
       "    .dataframe tbody tr th {\n",
       "        vertical-align: top;\n",
       "    }\n",
       "</style>\n",
       "<table border=\"1\" class=\"dataframe\">\n",
       "  <thead>\n",
       "    <tr style=\"text-align: right;\">\n",
       "      <th></th>\n",
       "      <th>First_MAD</th>\n",
       "      <th>SalOrg</th>\n",
       "      <th>DC</th>\n",
       "      <th>Ship_To</th>\n",
       "      <th>ordre</th>\n",
       "      <th>Plant</th>\n",
       "      <th>Material</th>\n",
       "      <th>ItemCat</th>\n",
       "      <th>OrderQty</th>\n",
       "      <th>LT</th>\n",
       "      <th>...</th>\n",
       "      <th>ORIGINAL_SUPPLIER</th>\n",
       "      <th>SUBRANGE</th>\n",
       "      <th>Comp_reference_number</th>\n",
       "      <th>Name_Of_Competitor</th>\n",
       "      <th>COMP_PRICE_MIN</th>\n",
       "      <th>COMP_PRICE_AVG</th>\n",
       "      <th>COMP_PRICE_MAX</th>\n",
       "      <th>PRICE</th>\n",
       "      <th>NEAREST_COMP_PRICE_MIN</th>\n",
       "      <th>NEAREST_COMP_PRICE_MAX</th>\n",
       "    </tr>\n",
       "  </thead>\n",
       "  <tbody>\n",
       "    <tr>\n",
       "      <th>0</th>\n",
       "      <td>2014-09-12</td>\n",
       "      <td>yqSu</td>\n",
       "      <td>TUiR</td>\n",
       "      <td>MsHvUF</td>\n",
       "      <td>ggT8Bq</td>\n",
       "      <td>vP6T</td>\n",
       "      <td>iR1zr2</td>\n",
       "      <td>lvOi</td>\n",
       "      <td>1</td>\n",
       "      <td>28.0</td>\n",
       "      <td>...</td>\n",
       "      <td>X6qzbY</td>\n",
       "      <td>qmsY</td>\n",
       "      <td>1.0</td>\n",
       "      <td>1.0</td>\n",
       "      <td>136.800</td>\n",
       "      <td>136.800000</td>\n",
       "      <td>136.80</td>\n",
       "      <td>152.95</td>\n",
       "      <td>136.80</td>\n",
       "      <td>136.80</td>\n",
       "    </tr>\n",
       "    <tr>\n",
       "      <th>1</th>\n",
       "      <td>2016-02-12</td>\n",
       "      <td>yqSu</td>\n",
       "      <td>csdY</td>\n",
       "      <td>BA5kLC</td>\n",
       "      <td>AIZGVy</td>\n",
       "      <td>vP6T</td>\n",
       "      <td>mD2b7j</td>\n",
       "      <td>lvOi</td>\n",
       "      <td>10</td>\n",
       "      <td>35.0</td>\n",
       "      <td>...</td>\n",
       "      <td>NaN</td>\n",
       "      <td>NaN</td>\n",
       "      <td>0.0</td>\n",
       "      <td>0.0</td>\n",
       "      <td>NaN</td>\n",
       "      <td>NaN</td>\n",
       "      <td>NaN</td>\n",
       "      <td>NaN</td>\n",
       "      <td>NaN</td>\n",
       "      <td>NaN</td>\n",
       "    </tr>\n",
       "    <tr>\n",
       "      <th>2</th>\n",
       "      <td>2013-05-24</td>\n",
       "      <td>U12J</td>\n",
       "      <td>TUiR</td>\n",
       "      <td>MBZhLQ</td>\n",
       "      <td>8Z4g83</td>\n",
       "      <td>Cisr</td>\n",
       "      <td>AjywTn</td>\n",
       "      <td>lvOi</td>\n",
       "      <td>2</td>\n",
       "      <td>28.0</td>\n",
       "      <td>...</td>\n",
       "      <td>SXlc2j</td>\n",
       "      <td>bUkB</td>\n",
       "      <td>3.0</td>\n",
       "      <td>2.0</td>\n",
       "      <td>411.939</td>\n",
       "      <td>677.394667</td>\n",
       "      <td>830.28</td>\n",
       "      <td>908.60</td>\n",
       "      <td>830.28</td>\n",
       "      <td>830.28</td>\n",
       "    </tr>\n",
       "    <tr>\n",
       "      <th>3</th>\n",
       "      <td>2012-07-12</td>\n",
       "      <td>yqSu</td>\n",
       "      <td>csdY</td>\n",
       "      <td>9Co4iE</td>\n",
       "      <td>RNuiEu</td>\n",
       "      <td>vP6T</td>\n",
       "      <td>DPiXfc</td>\n",
       "      <td>lvOi</td>\n",
       "      <td>10</td>\n",
       "      <td>35.0</td>\n",
       "      <td>...</td>\n",
       "      <td>Rmt5iw</td>\n",
       "      <td>5cy5</td>\n",
       "      <td>NaN</td>\n",
       "      <td>NaN</td>\n",
       "      <td>NaN</td>\n",
       "      <td>NaN</td>\n",
       "      <td>NaN</td>\n",
       "      <td>NaN</td>\n",
       "      <td>NaN</td>\n",
       "      <td>NaN</td>\n",
       "    </tr>\n",
       "  </tbody>\n",
       "</table>\n",
       "<p>4 rows × 40 columns</p>\n",
       "</div>"
      ],
      "text/plain": [
       "    First_MAD SalOrg    DC Ship_To   ordre Plant Material ItemCat  OrderQty  \\\n",
       "0  2014-09-12   yqSu  TUiR  MsHvUF  ggT8Bq  vP6T   iR1zr2    lvOi         1   \n",
       "1  2016-02-12   yqSu  csdY  BA5kLC  AIZGVy  vP6T   mD2b7j    lvOi        10   \n",
       "2  2013-05-24   U12J  TUiR  MBZhLQ  8Z4g83  Cisr   AjywTn    lvOi         2   \n",
       "3  2012-07-12   yqSu  csdY  9Co4iE  RNuiEu  vP6T   DPiXfc    lvOi        10   \n",
       "\n",
       "     LT           ...           ORIGINAL_SUPPLIER  SUBRANGE  \\\n",
       "0  28.0           ...                      X6qzbY      qmsY   \n",
       "1  35.0           ...                         NaN       NaN   \n",
       "2  28.0           ...                      SXlc2j      bUkB   \n",
       "3  35.0           ...                      Rmt5iw      5cy5   \n",
       "\n",
       "   Comp_reference_number  Name_Of_Competitor COMP_PRICE_MIN COMP_PRICE_AVG  \\\n",
       "0                    1.0                 1.0        136.800     136.800000   \n",
       "1                    0.0                 0.0            NaN            NaN   \n",
       "2                    3.0                 2.0        411.939     677.394667   \n",
       "3                    NaN                 NaN            NaN            NaN   \n",
       "\n",
       "  COMP_PRICE_MAX   PRICE  NEAREST_COMP_PRICE_MIN  NEAREST_COMP_PRICE_MAX  \n",
       "0         136.80  152.95                  136.80                  136.80  \n",
       "1            NaN     NaN                     NaN                     NaN  \n",
       "2         830.28  908.60                  830.28                  830.28  \n",
       "3            NaN     NaN                     NaN                     NaN  \n",
       "\n",
       "[4 rows x 40 columns]"
      ]
     },
     "execution_count": 46,
     "metadata": {},
     "output_type": "execute_result"
    }
   ],
   "source": [
    "demanda.head(4)"
   ]
  },
  {
   "cell_type": "code",
   "execution_count": 47,
   "metadata": {},
   "outputs": [
    {
     "data": {
      "text/plain": [
       "Index(['First_MAD', 'SalOrg', 'DC', 'Ship_To', 'ordre', 'Plant', 'Material',\n",
       "       'ItemCat', 'OrderQty', 'LT', 'LogABC', 'MOQ', 'ROP', 'SafetyStk', 'PL',\n",
       "       'MktABC', 'SubFct', 'Gross_Weight', 'Length', 'Width', 'Height',\n",
       "       'Volume', 'Gamma', 'Manufacturer', 'Business', 'Month',\n",
       "       'CBO_CBO_Qty_Shortage', 'Age_ZN_ZI_years', 'DP_FAMILY_CODE',\n",
       "       'PRODUCT_STATUS', 'ORIGINAL_SUPPLIER', 'SUBRANGE',\n",
       "       'Comp_reference_number', 'Name_Of_Competitor', 'COMP_PRICE_MIN',\n",
       "       'COMP_PRICE_AVG', 'COMP_PRICE_MAX', 'PRICE', 'NEAREST_COMP_PRICE_MIN',\n",
       "       'NEAREST_COMP_PRICE_MAX'],\n",
       "      dtype='object')"
      ]
     },
     "execution_count": 47,
     "metadata": {},
     "output_type": "execute_result"
    }
   ],
   "source": [
    "demanda.columns"
   ]
  },
  {
   "cell_type": "code",
   "execution_count": 48,
   "metadata": {},
   "outputs": [
    {
     "data": {
      "text/plain": [
       "count    5.595700e+06\n",
       "mean     1.403106e+02\n",
       "std      2.398007e+02\n",
       "min      0.000000e+00\n",
       "25%      7.000000e+00\n",
       "50%      2.700000e+01\n",
       "75%      1.750000e+02\n",
       "max      4.800000e+03\n",
       "Name: MOQ, dtype: float64"
      ]
     },
     "execution_count": 48,
     "metadata": {},
     "output_type": "execute_result"
    }
   ],
   "source": [
    "demanda[\"MOQ\"].describe()"
   ]
  },
  {
   "cell_type": "code",
   "execution_count": 49,
   "metadata": {},
   "outputs": [
    {
     "data": {
      "text/plain": [
       "ss6l    1736241\n",
       "c2Z5    1548683\n",
       "PLsu    1077032\n",
       "NmYB     730975\n",
       "9CJ3     502770\n",
       "Name: PL, dtype: int64"
      ]
     },
     "execution_count": 49,
     "metadata": {},
     "output_type": "execute_result"
    }
   ],
   "source": [
    "demanda[\"PL\"].value_counts()"
   ]
  },
  {
   "cell_type": "code",
   "execution_count": 50,
   "metadata": {},
   "outputs": [
    {
     "data": {
      "text/plain": [
       "32af    2500936\n",
       "otZd    1543726\n",
       "JLqu    1534413\n",
       "deRY      11684\n",
       "C0Gw       3316\n",
       "Achw       1626\n",
       "Name: Business, dtype: int64"
      ]
     },
     "execution_count": 50,
     "metadata": {},
     "output_type": "execute_result"
    }
   ],
   "source": [
    "demanda[\"Business\"].value_counts()"
   ]
  },
  {
   "cell_type": "code",
   "execution_count": 51,
   "metadata": {},
   "outputs": [
    {
     "data": {
      "text/plain": [
       "count    5.258191e+06\n",
       "mean     5.777209e-01\n",
       "std      8.493506e-01\n",
       "min      0.000000e+00\n",
       "25%      0.000000e+00\n",
       "50%      0.000000e+00\n",
       "75%      1.000000e+00\n",
       "max      9.000000e+00\n",
       "Name: Comp_reference_number, dtype: float64"
      ]
     },
     "execution_count": 51,
     "metadata": {},
     "output_type": "execute_result"
    }
   ],
   "source": [
    "demanda[\"Comp_reference_number\"].describe()"
   ]
  },
  {
   "cell_type": "code",
   "execution_count": 52,
   "metadata": {
    "collapsed": true
   },
   "outputs": [],
   "source": [
    "## recordar que los acumulados sirven para numericas\n",
    "\n",
    "#demanda.groupby(['SalOrg','Material',\"Year\",\"Month\"]).agg({[\"OrderQty\"]:\"sum\",[\"LT\",\"MOQ\",\"ROP\",\"SafetyStk\",\"Age_ZN_ZI_years\",\"Comp_reference_number\",\"Name_Of_Competitor\",\"PRICE\",\"NEAREST_COMP_PRICE_MIN\",\"NEAREST_COMP_PRICE_MAX\"]:\"mean\",[\"Gross_Weight\",\"Length\",\"Width\",\"Height\",\"Volume\",\"COMP_PRICE_MIN\",\"COMP_PRICE_AVG\",\"COMP_PRICE_MAX\",\"COMP_PRICE_MIN\"]:\"first\"})\n",
    "\n",
    "#demanda_c=demanda.groupby(['SalOrg','Material'\"Month\"])[\"LT\",\"MOQ\",\"ROP\",\"SafetyStk\",\"Age_ZN_ZI_years\",\"Comp_reference_number\",\"Name_Of_Competitor\",\"PRICE\",\"NEAREST_COMP_PRICE_MIN\",\"NEAREST_COMP_PRICE_MAX\"].mean().reset_index()\n",
    "\n",
    "a=[\"SafetyStk\",\"LT\",\"MOQ\",\"ROP\",\"Age_ZN_ZI_years\",\"Comp_reference_number\",\"Name_Of_Competitor\",\"PRICE\",\"NEAREST_COMP_PRICE_MIN\",\"NEAREST_COMP_PRICE_MAX\"]\n",
    "\n",
    "demanda_c=demanda[[\"CBO_CBO_Qty_Shortage\",\"SafetyStk\",\"LT\",\"MOQ\",\"ROP\",\"Age_ZN_ZI_years\",\"Comp_reference_number\",\"Name_Of_Competitor\",\"PRICE\",\"NEAREST_COMP_PRICE_MIN\",\"NEAREST_COMP_PRICE_MAX\",'SalOrg','Material',\"Month\"]].groupby(['SalOrg','Material',\"Month\"]).mean().reset_index()\n",
    "\n",
    "b=[\"Gross_Weight\",\"Length\",\"Width\",\"Height\",\"Volume\",\"COMP_PRICE_MIN\",\"COMP_PRICE_AVG\",\"COMP_PRICE_MAX\",\"COMP_PRICE_MIN\"]\n",
    "\n",
    "#demanda[\"SafetyStk_std\"]=demanda[\"SafetyStk\"]\n",
    "#demanda_c=demanda_c.merge(demanda[[\"SafetyStk_std\",'SalOrg','Material',\"Month\"]].groupby(['SalOrg','Material',\"Month\"]).std().reset_index(),on=['SalOrg','Material',\"Month\"],how=\"left\")\n",
    "\n",
    "demanda_c=demanda_c.merge(demanda[[\"Gross_Weight\",\"Length\",\"Width\",\"Height\",\"Volume\",\"COMP_PRICE_MIN\",\"COMP_PRICE_AVG\",\"COMP_PRICE_MAX\",\"COMP_PRICE_MIN\",'SalOrg','Material',\"Month\"]].groupby(['SalOrg','Material',\"Month\"]).first().reset_index(),on=['SalOrg','Material',\"Month\"],how=\"left\")\n",
    "\n",
    "c=a+b\n",
    "\n",
    "#demanda_c=demanda_c.merge(demanda[[\"DC\",\"LogABC\",\"MktABC\",\"Gamma\",\"Business\",\"PRODUCT_STATUS\",\"ORIGINAL_SUPPLIER\",\"SUBRANGE\",'SalOrg','Material',\"Month\"]].groupby(['SalOrg','Material',\"Month\"]).agg(lambda x:x.value_counts().index[0]),how=\"left\",on=['SalOrg','Material',\"Month\"])\n",
    "\n",
    "\n",
    "\n",
    "evaluation[\"Month\"]=evaluation[\"date\"]\n",
    "\n",
    "evaluation[\"Month\"]=pd.to_datetime(evaluation[\"Month\"],format=\"%Y/%m\")\n",
    "\n",
    "\n",
    "\n",
    "\n",
    "\n",
    "#### al final, ensamblar con los ultimos 6 meses"
   ]
  },
  {
   "cell_type": "code",
   "execution_count": 53,
   "metadata": {},
   "outputs": [
    {
     "name": "stdout",
     "output_type": "stream",
     "text": [
      "DC\n",
      "LogABC\n",
      "MktABC\n",
      "Gamma\n",
      "Manufacturer\n",
      "Business\n",
      "PRODUCT_STATUS\n",
      "ORIGINAL_SUPPLIER\n",
      "SUBRANGE\n"
     ]
    }
   ],
   "source": [
    "for x in [\"DC\",\"LogABC\",\"MktABC\",\"Gamma\",\"Manufacturer\",\"Business\",\"PRODUCT_STATUS\",\"ORIGINAL_SUPPLIER\",\"SUBRANGE\"]:\n",
    "    \n",
    "\n",
    "    \n",
    "    demanda_c=demanda_c.merge(demanda.groupby(['SalOrg',\"Month\"])[x].apply(pd.Series.mode).reset_index(),how=\"left\",on=['SalOrg',\"Month\"])\n",
    "    \n",
    "    del demanda_c[\"level_2\"]\n",
    "    \n",
    "    print (x)\n",
    "\n",
    "c.extend([\"DC\",\"LogABC\",\"MktABC\",\"Gamma\",\"Manufacturer\",\"Business\",\"PRODUCT_STATUS\",\"ORIGINAL_SUPPLIER\",\"SUBRANGE\"])"
   ]
  },
  {
   "cell_type": "code",
   "execution_count": 54,
   "metadata": {
    "collapsed": true
   },
   "outputs": [],
   "source": [
    "evaluation[\"Month\"]=evaluation[\"Month\"].apply(lambda x: x.strftime('%Y-%m'))"
   ]
  },
  {
   "cell_type": "code",
   "execution_count": 55,
   "metadata": {
    "collapsed": true
   },
   "outputs": [],
   "source": [
    "\n",
    "demanda_c=demanda_c.merge(evaluation,on=[\"SalOrg\",\"Material\",\"Month\"],how=\"outer\")\n",
    "\n",
    "demanda_c.sort_values(['SalOrg','Material',\"Month\"],inplace=True)\n",
    "\n",
    "\n",
    "## estos son las ultimas 3 veces, donde se le encontro data\n",
    "#for x in c:\n",
    "\n",
    "#    try:\n",
    "#        demanda_c.loc[:,x+\"_3\"]=demanda_c.groupby(['SalOrg','Material'])[x].shift(3)\n",
    "#        demanda_c.loc[:,x+\"_4\"]=demanda_c.groupby(['SalOrg','Material'])[x].shift(4)\n",
    "#        demanda_c.loc[:,x+\"_5\"]=demanda_c.groupby(['SalOrg','Material'])[x].shift(5)\n",
    "\n",
    "\n",
    "        \n",
    "#    except:\n",
    "#        pass"
   ]
  },
  {
   "cell_type": "code",
   "execution_count": 56,
   "metadata": {
    "collapsed": true
   },
   "outputs": [],
   "source": [
    "demanda_c=demanda_c.merge(demanda.groupby(['SalOrg','Material',\"Month\"])['OrderQty'].sum().reset_index(),on=['SalOrg',\"Material\",\"Month\"],how=\"outer\")"
   ]
  },
  {
   "cell_type": "code",
   "execution_count": 57,
   "metadata": {},
   "outputs": [
    {
     "data": {
      "text/plain": [
       "array(['2012-05', '2012-06', '2012-07', '2012-09', '2012-11', '2012-12',\n",
       "       '2013-01', '2013-02', '2013-03', '2013-04', '2013-05', '2013-06',\n",
       "       '2013-07', '2013-08', '2013-09', '2013-10', '2013-11', '2013-12',\n",
       "       '2014-01', '2014-02', '2014-03', '2014-04', '2014-05', '2014-06',\n",
       "       '2014-07', '2014-08', '2014-09', '2014-10', '2014-11', '2014-12',\n",
       "       '2015-01', '2015-03', '2015-04', '2015-05', '2015-06', '2015-07',\n",
       "       '2015-08', '2015-09', '2015-10', '2015-11', '2015-12', '2016-01',\n",
       "       '2016-02', '2016-03', '2016-05', '2016-06', '2016-07', '2016-08',\n",
       "       '2016-09', '2016-11', '2016-12', '2017-01', '2017-02', '2017-03',\n",
       "       '2017-04', '2017-05', '2017-06', '2012-02', '2012-03', '2012-04',\n",
       "       '2012-01', '2016-04', '2016-10', '2012-08', '2012-10', '2015-02'], dtype=object)"
      ]
     },
     "execution_count": 57,
     "metadata": {},
     "output_type": "execute_result"
    }
   ],
   "source": [
    "demanda_c[\"Month\"].unique()"
   ]
  },
  {
   "cell_type": "code",
   "execution_count": 58,
   "metadata": {},
   "outputs": [
    {
     "data": {
      "text/plain": [
       "Index(['SalOrg', 'Material', 'Month', 'CBO_CBO_Qty_Shortage', 'SafetyStk',\n",
       "       'LT', 'MOQ', 'ROP', 'Age_ZN_ZI_years', 'Comp_reference_number',\n",
       "       'Name_Of_Competitor', 'PRICE', 'NEAREST_COMP_PRICE_MIN',\n",
       "       'NEAREST_COMP_PRICE_MAX', 'Gross_Weight', 'Length', 'Width', 'Height',\n",
       "       'Volume', 'COMP_PRICE_MIN', 'COMP_PRICE_AVG', 'COMP_PRICE_MAX',\n",
       "       'COMP_PRICE_MIN', 'DC', 'LogABC', 'MktABC', 'Gamma', 'Manufacturer',\n",
       "       'Business', 'PRODUCT_STATUS', 'ORIGINAL_SUPPLIER', 'SUBRANGE', 'ID',\n",
       "       'date', 'OrderQty'],\n",
       "      dtype='object')"
      ]
     },
     "execution_count": 58,
     "metadata": {},
     "output_type": "execute_result"
    }
   ],
   "source": [
    "demanda_c.columns"
   ]
  },
  {
   "cell_type": "code",
   "execution_count": 59,
   "metadata": {},
   "outputs": [
    {
     "data": {
      "text/plain": [
       "array(['2017-04', '2017-05', '2017-06'], dtype=object)"
      ]
     },
     "execution_count": 59,
     "metadata": {},
     "output_type": "execute_result"
    }
   ],
   "source": [
    "evaluation[\"date\"].unique()"
   ]
  },
  {
   "cell_type": "code",
   "execution_count": 60,
   "metadata": {
    "collapsed": true
   },
   "outputs": [],
   "source": [
    "month=demanda[\"Month\"].unique().tolist()\n",
    "#month.extend(['2017-04', '2017-05', '2017-06'])\n",
    "\n",
    "x={\"Month\":month,\"Material\":demanda[\"Material\"].unique().tolist(),\"SalOrg\":demanda[\"SalOrg\"].unique().tolist()}\n",
    "\n",
    "\n",
    "train=pd.DataFrame(list(product(*x.values())), columns=x.keys())"
   ]
  },
  {
   "cell_type": "code",
   "execution_count": 61,
   "metadata": {
    "collapsed": true
   },
   "outputs": [],
   "source": [
    "train=train.merge(demanda_c,on=[\"Month\",\"Material\",\"SalOrg\"],how=\"outer\")"
   ]
  },
  {
   "cell_type": "code",
   "execution_count": 62,
   "metadata": {
    "collapsed": true
   },
   "outputs": [],
   "source": [
    "del demanda_c"
   ]
  },
  {
   "cell_type": "code",
   "execution_count": 63,
   "metadata": {
    "collapsed": true
   },
   "outputs": [],
   "source": [
    "train.loc[train[\"OrderQty\"].isnull(),\"OrderQty\"]=0"
   ]
  },
  {
   "cell_type": "code",
   "execution_count": 64,
   "metadata": {
    "collapsed": true
   },
   "outputs": [],
   "source": [
    "train[\"Month_ord\"]=pd.to_datetime(train[\"Month\"],yearfirst=True).dt.year*100+pd.to_datetime(train[\"Month\"],yearfirst=True).dt.month"
   ]
  },
  {
   "cell_type": "code",
   "execution_count": 65,
   "metadata": {
    "collapsed": true
   },
   "outputs": [],
   "source": [
    "train.sort_values(['SalOrg','Material',\"Month_ord\"],ascending=True,inplace=True)"
   ]
  },
  {
   "cell_type": "code",
   "execution_count": 66,
   "metadata": {},
   "outputs": [
    {
     "name": "stdout",
     "output_type": "stream",
     "text": [
      "SafetyStk-forward-both\n",
      "LT-forward-both\n",
      "MOQ-forward-both\n",
      "ROP-forward-both\n",
      "Age_ZN_ZI_years-forward-both\n",
      "Comp_reference_number-forward-both\n",
      "Name_Of_Competitor-forward-both\n",
      "PRICE-forward-both\n",
      "NEAREST_COMP_PRICE_MIN-forward-both\n",
      "NEAREST_COMP_PRICE_MAX-forward-both\n",
      "Gross_Weight-forward-both\n",
      "Length-forward-both\n",
      "Width-forward-both\n",
      "Height-forward-both\n",
      "Volume-forward-both\n",
      "COMP_PRICE_MIN-forward-both\n",
      "COMP_PRICE_AVG-forward-both\n",
      "COMP_PRICE_MAX-forward-both\n",
      "COMP_PRICE_MIN-forward-both\n",
      "DC-forward-both\n",
      "LogABC-forward-both\n",
      "MktABC-forward-both\n",
      "Gamma-forward-both\n",
      "Manufacturer-forward-both\n",
      "Business-forward-both\n",
      "PRODUCT_STATUS-forward-both\n",
      "ORIGINAL_SUPPLIER-forward-both\n",
      "SUBRANGE-forward-both\n",
      "SafetyStk-backward-both\n",
      "LT-backward-both\n",
      "MOQ-backward-both\n",
      "ROP-backward-both\n",
      "Age_ZN_ZI_years-backward-both\n",
      "Comp_reference_number-backward-both\n",
      "Name_Of_Competitor-backward-both\n",
      "PRICE-backward-both\n",
      "NEAREST_COMP_PRICE_MIN-backward-both\n",
      "NEAREST_COMP_PRICE_MAX-backward-both\n",
      "Gross_Weight-backward-both\n",
      "Length-backward-both\n",
      "Width-backward-both\n",
      "Height-backward-both\n",
      "Volume-backward-both\n",
      "COMP_PRICE_MIN-backward-both\n",
      "COMP_PRICE_AVG-backward-both\n",
      "COMP_PRICE_MAX-backward-both\n",
      "COMP_PRICE_MIN-backward-both\n",
      "DC-backward-both\n",
      "LogABC-backward-both\n",
      "MktABC-backward-both\n",
      "Gamma-backward-both\n",
      "Manufacturer-backward-both\n",
      "Business-backward-both\n",
      "PRODUCT_STATUS-backward-both\n",
      "ORIGINAL_SUPPLIER-backward-both\n",
      "SUBRANGE-backward-both\n",
      "SafetyStk-forward-mat\n",
      "LT-forward-mat\n",
      "MOQ-forward-mat\n",
      "ROP-forward-mat\n",
      "Age_ZN_ZI_years-forward-mat\n",
      "Comp_reference_number-forward-mat\n",
      "Name_Of_Competitor-forward-mat\n",
      "PRICE-forward-mat\n",
      "NEAREST_COMP_PRICE_MIN-forward-mat\n",
      "NEAREST_COMP_PRICE_MAX-forward-mat\n",
      "Gross_Weight-forward-mat\n",
      "Length-forward-mat\n",
      "Width-forward-mat\n",
      "Height-forward-mat\n",
      "Volume-forward-mat\n",
      "COMP_PRICE_MIN-forward-mat\n",
      "COMP_PRICE_AVG-forward-mat\n",
      "COMP_PRICE_MAX-forward-mat\n",
      "COMP_PRICE_MIN-forward-mat\n",
      "DC-forward-mat\n",
      "LogABC-forward-mat\n",
      "MktABC-forward-mat\n",
      "Gamma-forward-mat\n",
      "Manufacturer-forward-mat\n",
      "Business-forward-mat\n",
      "PRODUCT_STATUS-forward-mat\n",
      "ORIGINAL_SUPPLIER-forward-mat\n",
      "SUBRANGE-forward-mat\n",
      "SafetyStk-backward-mat\n",
      "LT-backward-mat\n",
      "MOQ-backward-mat\n",
      "ROP-backward-mat\n",
      "Age_ZN_ZI_years-backward-mat\n",
      "Comp_reference_number-backward-mat\n",
      "Name_Of_Competitor-backward-mat\n",
      "PRICE-backward-mat\n",
      "NEAREST_COMP_PRICE_MIN-backward-mat\n",
      "NEAREST_COMP_PRICE_MAX-backward-mat\n",
      "Gross_Weight-backward-mat\n",
      "Length-backward-mat\n",
      "Width-backward-mat\n",
      "Height-backward-mat\n",
      "Volume-backward-mat\n",
      "COMP_PRICE_MIN-backward-mat\n",
      "COMP_PRICE_AVG-backward-mat\n",
      "COMP_PRICE_MAX-backward-mat\n",
      "COMP_PRICE_MIN-backward-mat\n",
      "DC-backward-mat\n",
      "LogABC-backward-mat\n",
      "MktABC-backward-mat\n",
      "Gamma-backward-mat\n",
      "Manufacturer-backward-mat\n",
      "Business-backward-mat\n",
      "PRODUCT_STATUS-backward-mat\n",
      "ORIGINAL_SUPPLIER-backward-mat\n",
      "SUBRANGE-backward-mat\n",
      "SafetyStk-forward-sal\n",
      "LT-forward-sal\n",
      "MOQ-forward-sal\n",
      "ROP-forward-sal\n",
      "Age_ZN_ZI_years-forward-sal\n",
      "Comp_reference_number-forward-sal\n",
      "Name_Of_Competitor-forward-sal\n",
      "PRICE-forward-sal\n",
      "NEAREST_COMP_PRICE_MIN-forward-sal\n",
      "NEAREST_COMP_PRICE_MAX-forward-sal\n",
      "Gross_Weight-forward-sal\n",
      "Length-forward-sal\n",
      "Width-forward-sal\n",
      "Height-forward-sal\n",
      "Volume-forward-sal\n",
      "COMP_PRICE_MIN-forward-sal\n",
      "COMP_PRICE_AVG-forward-sal\n",
      "COMP_PRICE_MAX-forward-sal\n",
      "COMP_PRICE_MIN-forward-sal\n",
      "DC-forward-sal\n",
      "LogABC-forward-sal\n",
      "MktABC-forward-sal\n",
      "Gamma-forward-sal\n",
      "Manufacturer-forward-sal\n",
      "Business-forward-sal\n",
      "PRODUCT_STATUS-forward-sal\n",
      "ORIGINAL_SUPPLIER-forward-sal\n",
      "SUBRANGE-forward-sal\n",
      "SafetyStk-backward-sal\n",
      "LT-backward-sal\n",
      "MOQ-backward-sal\n",
      "ROP-backward-sal\n",
      "Age_ZN_ZI_years-backward-sal\n",
      "Comp_reference_number-backward-sal\n",
      "Name_Of_Competitor-backward-sal\n",
      "PRICE-backward-sal\n",
      "NEAREST_COMP_PRICE_MIN-backward-sal\n",
      "NEAREST_COMP_PRICE_MAX-backward-sal\n",
      "Gross_Weight-backward-sal\n",
      "Length-backward-sal\n",
      "Width-backward-sal\n",
      "Height-backward-sal\n",
      "Volume-backward-sal\n",
      "COMP_PRICE_MIN-backward-sal\n",
      "COMP_PRICE_AVG-backward-sal\n",
      "COMP_PRICE_MAX-backward-sal\n",
      "COMP_PRICE_MIN-backward-sal\n",
      "DC-backward-sal\n",
      "LogABC-backward-sal\n",
      "MktABC-backward-sal\n",
      "Gamma-backward-sal\n",
      "Manufacturer-backward-sal\n",
      "Business-backward-sal\n",
      "PRODUCT_STATUS-backward-sal\n",
      "ORIGINAL_SUPPLIER-backward-sal\n",
      "SUBRANGE-backward-sal\n"
     ]
    }
   ],
   "source": [
    "#for x in train.columns[train.dtypes != object]:\n",
    "#    train[x]=train[x].fillna(train[x].mean())\n",
    "\n",
    "for x in c:\n",
    "    #train.loc[train.loc[,b].isnull(),[\"Material\",\"SalOrg\",b]]=\n",
    "    train[x]=train.groupby([\"Material\",\"SalOrg\"])[x].fillna(method=\"ffill\")\n",
    "    print (str(x)+\"-forward-both\")\n",
    "    \n",
    "for x in c:\n",
    "    #train.loc[train.loc[,b].isnull(),[\"Material\",\"SalOrg\",b]]=\n",
    "    train[x]=train.groupby([\"Material\",\"SalOrg\"])[x].fillna(method=\"bfill\")\n",
    "    print (str(x) + \"-backward-both\")\n",
    "    \n",
    "for x in c:\n",
    "    #train.loc[train.loc[,b].isnull(),[\"Material\",\"SalOrg\",b]]=\n",
    "    train[x]=train.groupby([\"Material\"])[x].fillna(method=\"ffill\")\n",
    "    print (str(x)+\"-forward-mat\")\n",
    "    \n",
    "for x in c:\n",
    "    #train.loc[train.loc[,b].isnull(),[\"Material\",\"SalOrg\",b]]=\n",
    "    train[x]=train.groupby([\"Material\"])[x].fillna(method=\"bfill\")\n",
    "    print (str(x) + \"-backward-mat\")\n",
    "    \n",
    "for x in c:\n",
    "    #train.loc[train.loc[,b].isnull(),[\"Material\",\"SalOrg\",b]]=\n",
    "    train[x]=train.groupby([\"SalOrg\"])[x].fillna(method=\"ffill\")\n",
    "    print (str(x)+\"-forward-sal\")\n",
    "    \n",
    "for x in c:\n",
    "    #train.loc[train.loc[,b].isnull(),[\"Material\",\"SalOrg\",b]]=\n",
    "    train[x]=train.groupby([\"SalOrg\"])[x].fillna(method=\"bfill\")\n",
    "    print (str(x) + \"-backward-sal\")\n"
   ]
  },
  {
   "cell_type": "code",
   "execution_count": 67,
   "metadata": {
    "collapsed": true
   },
   "outputs": [],
   "source": [
    "for x in c:\n",
    "\n",
    "    try:\n",
    "        train.loc[:,x+\"_3\"]=train.groupby(['SalOrg','Material'])[x].shift(3)\n",
    "        #train.loc[:,x+\"_4\"]=train.groupby(['SalOrg','Material'])[x].shift(4)\n",
    "        #train.loc[:,x+\"_5\"]=train.groupby(['SalOrg','Material'])[x].shift(5)\n",
    "        \n",
    "        \n",
    "\n",
    "\n",
    "\n",
    "        \n",
    "    except:\n",
    "        pass\n",
    "    \n",
    "train.loc[:,\"OrderQty_3\"]=train.groupby(['SalOrg','Material'])[\"OrderQty\"].shift(3)\n",
    "train.loc[:,\"OrderQty_4\"]=train.groupby(['SalOrg','Material'])[\"OrderQty\"].shift(4)\n",
    "train.loc[:,\"OrderQty_5\"]=train.groupby(['SalOrg','Material'])[\"OrderQty\"].shift(5)\n",
    "train.loc[:,\"OrderQty_6\"]=train.groupby(['SalOrg','Material'])[\"OrderQty\"].shift(6)\n",
    "train.loc[:,\"OrderQty_12\"]=train.groupby(['SalOrg','Material'])[\"OrderQty\"].shift(12)\n",
    "\n",
    "train.loc[:,\"OrderQty_3_S\"]=train.groupby(['SalOrg'])[\"OrderQty\"].shift(3)\n",
    "train.loc[:,\"OrderQty_4_S\"]=train.groupby(['SalOrg'])[\"OrderQty\"].shift(4)\n",
    "train.loc[:,\"OrderQty_5_S\"]=train.groupby(['SalOrg'])[\"OrderQty\"].shift(5)\n",
    "train.loc[:,\"OrderQty_6_S\"]=train.groupby(['SalOrg'])[\"OrderQty\"].shift(6)\n",
    "train.loc[:,\"OrderQty_12_S\"]=train.groupby(['SalOrg'])[\"OrderQty\"].shift(12)\n",
    "\n",
    "train.loc[:,\"OrderQty_3_M\"]=train.groupby([\"Material\"])[\"OrderQty\"].shift(3)\n",
    "train.loc[:,\"OrderQty_4_M\"]=train.groupby([\"Material\"])[\"OrderQty\"].shift(4)\n",
    "train.loc[:,\"OrderQty_5_M\"]=train.groupby([\"Material\"])[\"OrderQty\"].shift(5)\n",
    "train.loc[:,\"OrderQty_6_M\"]=train.groupby([\"Material\"])[\"OrderQty\"].shift(6)\n",
    "train.loc[:,\"OrderQty_12_M\"]=train.groupby(['Material'])[\"OrderQty\"].shift(12)\n",
    "\n"
   ]
  },
  {
   "cell_type": "code",
   "execution_count": 68,
   "metadata": {
    "collapsed": true
   },
   "outputs": [],
   "source": [
    "train[\"OrderQty_fr\"]=(train.loc[:,\"OrderQty_3\"]+train.loc[:,\"OrderQty_4\"]+train.loc[:,\"OrderQty_5\"]+train.loc[:,\"OrderQty_6\"])/4\n",
    "\n",
    "train[\"OrderQty_fr_12\"]=train[\"OrderQty_fr\"]/train[\"OrderQty_12\"]\n",
    "\n",
    "train[\"OrderQty_change\"]=train[\"OrderQty_fr_12\"]-train[\"OrderQty_fr\"]"
   ]
  },
  {
   "cell_type": "code",
   "execution_count": 69,
   "metadata": {
    "collapsed": true
   },
   "outputs": [],
   "source": [
    "del demanda"
   ]
  },
  {
   "cell_type": "code",
   "execution_count": 70,
   "metadata": {
    "collapsed": true
   },
   "outputs": [],
   "source": [
    "#for x in train.columns[train.dtypes != object]:\n",
    "#    train[x]=train[x].fillna(train[x].mean())\n",
    "\n"
   ]
  },
  {
   "cell_type": "code",
   "execution_count": 71,
   "metadata": {
    "collapsed": true
   },
   "outputs": [],
   "source": [
    "#pd.to_datetime(train[\"Month\"],yearfirst=True)\n",
    "\n",
    "#train[\"Month\"].map(lambda x: x.strftime('%Y-%m-%d'))\n",
    "\n",
    "train[\"Month\"]=pd.to_datetime(train[\"Month\"]).map(lambda x: x.strftime('%Y-%m'))\n",
    "\n",
    "train[\"Mes\"]=pd.to_datetime(train[\"Month\"],yearfirst=True).dt.month\n",
    "\n",
    "train[\"Mes_cat\"]=train[\"Mes\"].astype(str)\n",
    "\n",
    "\n"
   ]
  },
  {
   "cell_type": "code",
   "execution_count": 72,
   "metadata": {
    "collapsed": true
   },
   "outputs": [],
   "source": [
    "def suma_acumulada(unidad,var_numerica,data):\n",
    "    ent=unidad+var_numerica\n",
    "    #data.sort_values(ent,inplace=True)\n",
    "    data.reset_index(drop=True,inplace=True)\n",
    "    return data[ent].groupby(unidad).expanding(min_periods=3).sum().reset_index(drop=True)[var_numerica]\n",
    "\n",
    "def promedio_acumulado(unidad,var_numerica,data):\n",
    "    ent=unidad+var_numerica\n",
    "    #data.sort_values(ent,inplace=True)\n",
    "    data.reset_index(drop=True,inplace=True)\n",
    "    return data[ent].groupby(unidad).expanding(min_periods=3).mean().reset_index(drop=True)[var_numerica]\n",
    "\n",
    "def rolling_promedio(unidad,var_numerica,data,periodo):\n",
    "    ent=unidad+var_numerica\n",
    "    #data.sort_values(ent,inplace=True)\n",
    "    data.reset_index(drop=True,inplace=True)\n",
    "    return data[ent].groupby(unidad).rolling(min_periods=3,window=periodo).mean().reset_index(drop=True)[var_numerica]"
   ]
  },
  {
   "cell_type": "code",
   "execution_count": 73,
   "metadata": {
    "collapsed": true
   },
   "outputs": [],
   "source": [
    "#train[\"SafetyStk_3\",'MOQ_3','ROP_3','Volume_3','Length_3','Width_3']\n",
    "\n",
    "train[[\"SafetyStk_3_3_MESES\",\"MOQ_3_3_MESES\",\"ROP_3_3_MESES\",'Volume_3_3_MESES',\"Length_3_3_MESES\",\"Width_3_3_MESES\"]]=rolling_promedio([\"SalOrg\",\"Material\"],[\"SafetyStk_3\",'MOQ_3','ROP_3','Volume_3','Length_3','Width_3'],train,3)\n",
    "#vida_t[[\"INGRESO_ACUMULADO\",\"SALDO_TC_SBS_ACUMULADO\",\"PRIMA_ACUMULADO\",\"NUM_PRODUCTOS_ACUMULADO\",\"CAMBIO_PRODUCTO_ACUMULADO\",\"MONTO_DOLARES_ACUMULADO\",\"MORA_ACUMULADO\",\"NUM_FACTURAS_ACUMULADO\",\"CAMBIO_RIESGO_ACUMULADO\",\"NUM_RIESGOS_ACUMULADO\",'SEGMENTO_INTERNO_NUM_ACUMULADO',\"CAPITAL_ASEGURADO_ACUMULADO\",\"NUM_RAMOPROP_ACUMULADO\",'SALDO_SBS_ACUMULADO']]=promedio_acumulado([\"CUC\"],['INGRESO','SALDO_TC_SBS','PRIMA',\"NUM_PRODUCTOS\",\"CAMBIO_PRODUCTO\",\"MONTO_DOLARES\",\"MORA\",\"NUM_FACTURAS\",\"CAMBIO_RIESGO\",\"NUM_RIESGOS\",'SEGMENTO_INTERNO',\"CAPITAL_ASEGURADO\",\"NUM_RAMOPROP\",'SALDO_SBS'],[\"PERIODO\"],vida_t)\n",
    "\n",
    "train[[\"SafetyStk_3_ACUM\",\"MOQ_ACUM_ACUM\",\"ROP_ACUM_ACUM\",'Volume_3_ACUM',\"Length_3_ACUM\",\"Width_ACUM\"]]=promedio_acumulado([\"SalOrg\",\"Material\"],[\"SafetyStk_3\",'MOQ_3','ROP_3','Volume_3','Length_3','Width_3'],train)\n",
    "\n",
    "#vida_t[\"INGRESO_3_MESES_DIFERENCIA\"]=vida_t[\"INGRESO_3_MESES\"]-vida_t[\"INGRESO\"]\n",
    "#vida_t[\"INGRESO_ACUMULADO_DIFERENCIA\"]=vida_t[\"INGRESO_ACUMULADO\"]-vida_t[\"INGRESO\"]\n",
    "\n",
    "#vida_t[\"NUM_RAMOPROP_3_MESES_DIFERENCIA\"]=vida_t[\"NUM_RAMOPROP_3_MESES\"]-vida_t[\"NUM_RAMOPROP\"]\n",
    "#vida_t[\"NUM_RAMOPROP_ACUMULADO_DIFERENCIA\"]=vida_t[\"NUM_RAMOPROP_ACUMULADO\"]-vida_t[\"NUM_RAMOPROP\"]"
   ]
  },
  {
   "cell_type": "code",
   "execution_count": 74,
   "metadata": {},
   "outputs": [
    {
     "data": {
      "text/plain": [
       "Index(['Month', 'Material', 'SalOrg', 'CBO_CBO_Qty_Shortage', 'ID', 'date',\n",
       "       'OrderQty', 'Month_ord', 'SafetyStk_3', 'LT_3', 'MOQ_3', 'ROP_3',\n",
       "       'Age_ZN_ZI_years_3', 'Comp_reference_number_3', 'Name_Of_Competitor_3',\n",
       "       'PRICE_3', 'NEAREST_COMP_PRICE_MIN_3', 'NEAREST_COMP_PRICE_MAX_3',\n",
       "       'Gross_Weight_3', 'Length_3', 'Width_3', 'Height_3', 'Volume_3',\n",
       "       'COMP_PRICE_AVG_3', 'COMP_PRICE_MAX_3', 'DC_3', 'LogABC_3', 'MktABC_3',\n",
       "       'Gamma_3', 'Manufacturer_3', 'Business_3', 'PRODUCT_STATUS_3',\n",
       "       'ORIGINAL_SUPPLIER_3', 'SUBRANGE_3', 'OrderQty_3', 'OrderQty_4',\n",
       "       'OrderQty_5', 'OrderQty_6', 'OrderQty_12', 'OrderQty_3_S',\n",
       "       'OrderQty_4_S', 'OrderQty_5_S', 'OrderQty_6_S', 'OrderQty_12_S',\n",
       "       'OrderQty_3_M', 'OrderQty_4_M', 'OrderQty_5_M', 'OrderQty_6_M',\n",
       "       'OrderQty_12_M', 'OrderQty_fr', 'OrderQty_fr_12', 'OrderQty_change',\n",
       "       'Mes', 'Mes_cat', 'SafetyStk_3_3_MESES', 'MOQ_3_3_MESES',\n",
       "       'ROP_3_3_MESES', 'Volume_3_3_MESES', 'Length_3_3_MESES',\n",
       "       'Width_3_3_MESES', 'SafetyStk_3_ACUM', 'MOQ_ACUM_ACUM', 'ROP_ACUM_ACUM',\n",
       "       'Volume_3_ACUM', 'Length_3_ACUM', 'Width_ACUM'],\n",
       "      dtype='object')"
      ]
     },
     "execution_count": 74,
     "metadata": {},
     "output_type": "execute_result"
    }
   ],
   "source": [
    "train.drop(c, axis=1, inplace=True)\n",
    "\n",
    "train.columns"
   ]
  },
  {
   "cell_type": "code",
   "execution_count": 78,
   "metadata": {
    "collapsed": true
   },
   "outputs": [],
   "source": [
    "categorical=[\"SalOrg\",\"Mes_cat\"]\n",
    "\n",
    "categorical.extend([\"DC_3\",\"LogABC_3\",\"MktABC_3\",\"Gamma_3\",\"Manufacturer_3\",\"Business_3\",\"PRODUCT_STATUS_3\",\"ORIGINAL_SUPPLIER_3\",\"SUBRANGE_3\"])\n",
    "\n",
    "no_contar=[\"Material\",\"ID\",\"date\",\"Month\",'OrderQty',\"Month_ord\"]\n",
    "\n",
    "features=[x for x in train.columns if x not in no_contar]\n",
    "\n",
    "features=[x for x in features if x not in categorical]\n",
    "\n",
    "target=['OrderQty']"
   ]
  },
  {
   "cell_type": "code",
   "execution_count": 79,
   "metadata": {},
   "outputs": [
    {
     "data": {
      "text/plain": [
       "['SalOrg',\n",
       " 'Mes_cat',\n",
       " 'DC_3',\n",
       " 'LogABC_3',\n",
       " 'MktABC_3',\n",
       " 'Gamma_3',\n",
       " 'Manufacturer_3',\n",
       " 'Business_3',\n",
       " 'PRODUCT_STATUS_3',\n",
       " 'ORIGINAL_SUPPLIER_3',\n",
       " 'SUBRANGE_3']"
      ]
     },
     "execution_count": 79,
     "metadata": {},
     "output_type": "execute_result"
    }
   ],
   "source": [
    "categorical"
   ]
  },
  {
   "cell_type": "code",
   "execution_count": 80,
   "metadata": {
    "collapsed": true
   },
   "outputs": [],
   "source": [
    "\n",
    "\n",
    "\n",
    "\n",
    "\n",
    "\n",
    "\n",
    "for x in categorical:\n",
    "    train[x+\"_md\"]=train[x]\n",
    "    \n",
    "categorical_md=[x+\"_md\" for x in categorical]\n",
    "\n",
    "\n",
    "for l in categorical_md:\n",
    "    le = preprocessing.LabelEncoder()\n",
    "    le.fit(list(train[l].dropna()))\n",
    "    train.loc[~train[l].isnull(),l]=le.transform(train.loc[~train[l].isnull(),l])\n",
    "\n",
    "features.extend(categorical_md)"
   ]
  },
  {
   "cell_type": "code",
   "execution_count": 83,
   "metadata": {},
   "outputs": [
    {
     "data": {
      "text/plain": [
       "['SafetyStk',\n",
       " 'LT',\n",
       " 'MOQ',\n",
       " 'ROP',\n",
       " 'Age_ZN_ZI_years',\n",
       " 'Comp_reference_number',\n",
       " 'Name_Of_Competitor',\n",
       " 'PRICE',\n",
       " 'NEAREST_COMP_PRICE_MIN',\n",
       " 'NEAREST_COMP_PRICE_MAX',\n",
       " 'Gross_Weight',\n",
       " 'Length',\n",
       " 'Width',\n",
       " 'Height',\n",
       " 'Volume',\n",
       " 'COMP_PRICE_MIN',\n",
       " 'COMP_PRICE_AVG',\n",
       " 'COMP_PRICE_MAX',\n",
       " 'COMP_PRICE_MIN',\n",
       " 'DC',\n",
       " 'LogABC',\n",
       " 'MktABC',\n",
       " 'Gamma',\n",
       " 'Manufacturer',\n",
       " 'Business',\n",
       " 'PRODUCT_STATUS',\n",
       " 'ORIGINAL_SUPPLIER',\n",
       " 'SUBRANGE']"
      ]
     },
     "execution_count": 83,
     "metadata": {},
     "output_type": "execute_result"
    }
   ],
   "source": [
    "c"
   ]
  },
  {
   "cell_type": "code",
   "execution_count": 84,
   "metadata": {
    "collapsed": true
   },
   "outputs": [],
   "source": [
    "categorical_indexes=[features.index(x) for x in categorical_md]"
   ]
  },
  {
   "cell_type": "code",
   "execution_count": 85,
   "metadata": {},
   "outputs": [
    {
     "data": {
      "text/plain": [
       "3524174"
      ]
     },
     "execution_count": 85,
     "metadata": {},
     "output_type": "execute_result"
    }
   ],
   "source": [
    "len(train.loc[train[\"Month\"]<\"2017-01\"].reset_index(drop=True)[features].values)"
   ]
  },
  {
   "cell_type": "code",
   "execution_count": 86,
   "metadata": {},
   "outputs": [
    {
     "data": {
      "text/plain": [
       "176040"
      ]
     },
     "execution_count": 86,
     "metadata": {},
     "output_type": "execute_result"
    }
   ],
   "source": [
    "len(train.loc[train[\"Month\"].isin([\"2017-01\",\"2017-02\",\"2017-03\"])])"
   ]
  },
  {
   "cell_type": "code",
   "execution_count": 87,
   "metadata": {},
   "outputs": [
    {
     "data": {
      "text/plain": [
       "count    3.816242e+06\n",
       "mean     1.099320e+01\n",
       "std      1.162952e+02\n",
       "min      0.000000e+00\n",
       "25%      0.000000e+00\n",
       "50%      0.000000e+00\n",
       "75%      0.000000e+00\n",
       "max      1.354000e+04\n",
       "Name: OrderQty, dtype: float64"
      ]
     },
     "execution_count": 87,
     "metadata": {},
     "output_type": "execute_result"
    }
   ],
   "source": [
    "train['OrderQty'].describe()"
   ]
  },
  {
   "cell_type": "code",
   "execution_count": 88,
   "metadata": {},
   "outputs": [
    {
     "data": {
      "text/plain": [
       "0.9000       6.000\n",
       "0.9500      20.000\n",
       "0.9900     226.000\n",
       "0.9990    1470.000\n",
       "0.9999    4753.759\n",
       "Name: OrderQty, dtype: float64"
      ]
     },
     "execution_count": 88,
     "metadata": {},
     "output_type": "execute_result"
    }
   ],
   "source": [
    "train['OrderQty'].quantile([0.9,0.95,0.99,0.999,0.9999])"
   ]
  },
  {
   "cell_type": "code",
   "execution_count": 89,
   "metadata": {},
   "outputs": [
    {
     "name": "stdout",
     "output_type": "stream",
     "text": [
      "Training until validation scores don't improve for 50 rounds.\n",
      "[5]\tvalid_0's l1: 19.5126\n",
      "[10]\tvalid_0's l1: 18.663\n",
      "[15]\tvalid_0's l1: 17.8516\n",
      "[20]\tvalid_0's l1: 17.1021\n",
      "[25]\tvalid_0's l1: 16.3985\n",
      "[30]\tvalid_0's l1: 15.7284\n",
      "[35]\tvalid_0's l1: 15.1087\n",
      "[40]\tvalid_0's l1: 14.5421\n",
      "[45]\tvalid_0's l1: 14.011\n",
      "[50]\tvalid_0's l1: 13.5122\n",
      "[55]\tvalid_0's l1: 13.0487\n",
      "[60]\tvalid_0's l1: 12.6144\n",
      "[65]\tvalid_0's l1: 12.218\n",
      "[70]\tvalid_0's l1: 11.8523\n",
      "[75]\tvalid_0's l1: 11.5199\n",
      "[80]\tvalid_0's l1: 11.2142\n",
      "[85]\tvalid_0's l1: 10.9223\n",
      "[90]\tvalid_0's l1: 10.6586\n",
      "[95]\tvalid_0's l1: 10.4088\n",
      "[100]\tvalid_0's l1: 10.1828\n",
      "[105]\tvalid_0's l1: 9.97475\n",
      "[110]\tvalid_0's l1: 9.78165\n",
      "[115]\tvalid_0's l1: 9.60706\n",
      "[120]\tvalid_0's l1: 9.45056\n",
      "[125]\tvalid_0's l1: 9.2997\n",
      "[130]\tvalid_0's l1: 9.16566\n",
      "[135]\tvalid_0's l1: 9.0375\n",
      "[140]\tvalid_0's l1: 8.91012\n",
      "[145]\tvalid_0's l1: 8.79972\n",
      "[150]\tvalid_0's l1: 8.70284\n",
      "[155]\tvalid_0's l1: 8.60991\n",
      "[160]\tvalid_0's l1: 8.52317\n",
      "[165]\tvalid_0's l1: 8.44254\n",
      "[170]\tvalid_0's l1: 8.36028\n",
      "[175]\tvalid_0's l1: 8.28897\n",
      "[180]\tvalid_0's l1: 8.22612\n",
      "[185]\tvalid_0's l1: 8.16708\n",
      "[190]\tvalid_0's l1: 8.1072\n",
      "[195]\tvalid_0's l1: 8.05299\n",
      "[200]\tvalid_0's l1: 7.99718\n",
      "[205]\tvalid_0's l1: 7.94379\n",
      "[210]\tvalid_0's l1: 7.90274\n",
      "[215]\tvalid_0's l1: 7.86279\n",
      "[220]\tvalid_0's l1: 7.82963\n",
      "[225]\tvalid_0's l1: 7.79891\n",
      "[230]\tvalid_0's l1: 7.76339\n",
      "[235]\tvalid_0's l1: 7.73692\n",
      "[240]\tvalid_0's l1: 7.70988\n",
      "[245]\tvalid_0's l1: 7.68521\n",
      "[250]\tvalid_0's l1: 7.66414\n",
      "[255]\tvalid_0's l1: 7.6421\n",
      "[260]\tvalid_0's l1: 7.62365\n",
      "[265]\tvalid_0's l1: 7.60511\n",
      "[270]\tvalid_0's l1: 7.58851\n",
      "[275]\tvalid_0's l1: 7.56937\n",
      "[280]\tvalid_0's l1: 7.55403\n",
      "[285]\tvalid_0's l1: 7.53521\n",
      "[290]\tvalid_0's l1: 7.51868\n",
      "[295]\tvalid_0's l1: 7.50701\n",
      "[300]\tvalid_0's l1: 7.49223\n",
      "[305]\tvalid_0's l1: 7.48104\n",
      "[310]\tvalid_0's l1: 7.46974\n",
      "[315]\tvalid_0's l1: 7.45818\n",
      "[320]\tvalid_0's l1: 7.44925\n",
      "[325]\tvalid_0's l1: 7.44006\n",
      "[330]\tvalid_0's l1: 7.43148\n",
      "[335]\tvalid_0's l1: 7.42168\n",
      "[340]\tvalid_0's l1: 7.41194\n",
      "[345]\tvalid_0's l1: 7.40105\n",
      "[350]\tvalid_0's l1: 7.3941\n",
      "[355]\tvalid_0's l1: 7.38873\n",
      "[360]\tvalid_0's l1: 7.37915\n",
      "[365]\tvalid_0's l1: 7.36964\n",
      "[370]\tvalid_0's l1: 7.36233\n",
      "[375]\tvalid_0's l1: 7.35622\n",
      "[380]\tvalid_0's l1: 7.35445\n",
      "[385]\tvalid_0's l1: 7.35013\n",
      "[390]\tvalid_0's l1: 7.3488\n",
      "[395]\tvalid_0's l1: 7.34892\n",
      "[400]\tvalid_0's l1: 7.34243\n",
      "[405]\tvalid_0's l1: 7.33808\n",
      "[410]\tvalid_0's l1: 7.33629\n",
      "[415]\tvalid_0's l1: 7.33257\n",
      "[420]\tvalid_0's l1: 7.32831\n",
      "[425]\tvalid_0's l1: 7.32542\n",
      "[430]\tvalid_0's l1: 7.32448\n",
      "[435]\tvalid_0's l1: 7.32166\n",
      "[440]\tvalid_0's l1: 7.3193\n",
      "[445]\tvalid_0's l1: 7.3157\n",
      "[450]\tvalid_0's l1: 7.31493\n",
      "[455]\tvalid_0's l1: 7.31471\n",
      "[460]\tvalid_0's l1: 7.31374\n",
      "[465]\tvalid_0's l1: 7.31254\n",
      "[470]\tvalid_0's l1: 7.31029\n",
      "[475]\tvalid_0's l1: 7.30961\n",
      "[480]\tvalid_0's l1: 7.30646\n",
      "[485]\tvalid_0's l1: 7.30393\n",
      "[490]\tvalid_0's l1: 7.30325\n",
      "[495]\tvalid_0's l1: 7.3022\n",
      "[500]\tvalid_0's l1: 7.30136\n",
      "[505]\tvalid_0's l1: 7.29852\n",
      "[510]\tvalid_0's l1: 7.29658\n",
      "[515]\tvalid_0's l1: 7.29477\n",
      "[520]\tvalid_0's l1: 7.29407\n",
      "[525]\tvalid_0's l1: 7.29457\n",
      "[530]\tvalid_0's l1: 7.29316\n",
      "[535]\tvalid_0's l1: 7.29294\n",
      "[540]\tvalid_0's l1: 7.29293\n",
      "[545]\tvalid_0's l1: 7.29282\n",
      "[550]\tvalid_0's l1: 7.2925\n",
      "[555]\tvalid_0's l1: 7.28954\n",
      "[560]\tvalid_0's l1: 7.28785\n",
      "[565]\tvalid_0's l1: 7.28722\n",
      "[570]\tvalid_0's l1: 7.28722\n",
      "[575]\tvalid_0's l1: 7.28639\n",
      "[580]\tvalid_0's l1: 7.28528\n",
      "[585]\tvalid_0's l1: 7.28303\n",
      "[590]\tvalid_0's l1: 7.28342\n",
      "[595]\tvalid_0's l1: 7.28216\n",
      "[600]\tvalid_0's l1: 7.28191\n",
      "[605]\tvalid_0's l1: 7.28254\n",
      "[610]\tvalid_0's l1: 7.28267\n",
      "[615]\tvalid_0's l1: 7.28353\n",
      "[620]\tvalid_0's l1: 7.28471\n",
      "[625]\tvalid_0's l1: 7.2848\n",
      "[630]\tvalid_0's l1: 7.28332\n",
      "[635]\tvalid_0's l1: 7.28373\n",
      "[640]\tvalid_0's l1: 7.28409\n",
      "[645]\tvalid_0's l1: 7.27892\n",
      "[650]\tvalid_0's l1: 7.2801\n",
      "[655]\tvalid_0's l1: 7.27808\n",
      "[660]\tvalid_0's l1: 7.27524\n",
      "[665]\tvalid_0's l1: 7.2746\n",
      "[670]\tvalid_0's l1: 7.27427\n",
      "[675]\tvalid_0's l1: 7.27414\n",
      "[680]\tvalid_0's l1: 7.27343\n",
      "[685]\tvalid_0's l1: 7.27662\n",
      "[690]\tvalid_0's l1: 7.27655\n",
      "[695]\tvalid_0's l1: 7.27669\n",
      "[700]\tvalid_0's l1: 7.2759\n",
      "[705]\tvalid_0's l1: 7.2769\n",
      "[710]\tvalid_0's l1: 7.2757\n",
      "[715]\tvalid_0's l1: 7.2773\n",
      "[720]\tvalid_0's l1: 7.27713\n",
      "[725]\tvalid_0's l1: 7.27725\n",
      "Early stopping, best iteration is:\n",
      "[679]\tvalid_0's l1: 7.27294\n",
      "473.1935083961761 seconds\n"
     ]
    }
   ],
   "source": [
    "import time\n",
    "\n",
    "start_time = time.clock()\n",
    "\n",
    "#x_train = train.loc[train[\"Month\"]<\"2017-01\"].reset_index(drop=True)[features].values\n",
    "#y_train =train.loc[train[\"Month\"]<\"2017-01\"].reset_index(drop=True)[target].values.ravel()\n",
    "\n",
    "x_train = train.loc[train[\"Month\"]<\"2017-01\"].reset_index(drop=True)[features].values\n",
    "y_train =train.loc[train[\"Month\"]<\"2017-01\"].reset_index(drop=True)[target].values.ravel()\n",
    "\n",
    "x_test = train.loc[train[\"Month\"].isin([\"2017-01\",\"2017-02\",\"2017-03\"])].reset_index(drop=True)[features].values\n",
    "y_test =  train.loc[train[\"Month\"].isin([\"2017-01\",\"2017-02\",\"2017-03\"])].reset_index(drop=True)[target].values.ravel()\n",
    "\n",
    "lgb_train = lgb.Dataset(x_train, y_train)\n",
    "lgb_eval = lgb.Dataset(x_test, y_test, reference=lgb_train)\n",
    "\n",
    "params = {\n",
    "        'task': 'train',\n",
    "        'boosting_type': 'gbdt',\n",
    "        'objective': 'regression',\n",
    "        'metric': { 'mae'},\n",
    "        'num_leaves':250,\n",
    "        'learning_rate': 0.01,\n",
    "         \"max_depth\" : 8,\n",
    "        'feature_fraction': 0.7,\n",
    "         \"bagging_freq\": 1,\n",
    "        'bagging_fraction': 0.5,\n",
    "        'verbose': 1\n",
    "}\n",
    "\n",
    "lgbm3 = lgb.train(params,lgb_train,num_boost_round=800,valid_sets=lgb_eval,early_stopping_rounds=50,verbose_eval=5)\n",
    "\n",
    "\n",
    "print(time.clock() - start_time, \"seconds\")"
   ]
  },
  {
   "cell_type": "code",
   "execution_count": 90,
   "metadata": {},
   "outputs": [
    {
     "data": {
      "text/plain": [
       "[('OrderQty_fr', 419449930873.78467),\n",
       " ('OrderQty_3', 118386740645.85458),\n",
       " ('OrderQty_3_S', 60308727678.737694),\n",
       " ('SafetyStk_3', 38758580182.671738),\n",
       " ('Mes', 37756885300.255249),\n",
       " ('OrderQty_12', 36331452560.812225),\n",
       " ('CBO_CBO_Qty_Shortage', 26900839497.007378),\n",
       " ('OrderQty_4', 24508699017.764061),\n",
       " ('OrderQty_12_M', 24168319053.27039),\n",
       " ('SafetyStk_3_3_MESES', 21111680405.866123),\n",
       " ('OrderQty_4_M', 20387652583.514133),\n",
       " ('OrderQty_fr_12', 16984086678.483627),\n",
       " ('OrderQty_3_M', 16847551897.194489),\n",
       " ('OrderQty_4_S', 12296588709.823393),\n",
       " ('OrderQty_5', 10085067238.771053),\n",
       " ('OrderQty_6', 9649133984.5095387),\n",
       " ('OrderQty_5_M', 9488143016.2240448),\n",
       " ('Age_ZN_ZI_years_3', 9041665636.3623466),\n",
       " ('OrderQty_6_M', 9008814210.4469223),\n",
       " ('OrderQty_12_S', 8521764622.1618519),\n",
       " ('MOQ_3', 8339247255.6495838),\n",
       " ('PRICE_3', 8138052992.6742363),\n",
       " ('OrderQty_5_S', 7662119210.3776789),\n",
       " ('NEAREST_COMP_PRICE_MIN_3', 7373073258.3422155),\n",
       " ('Length_3', 6595649951.8617802),\n",
       " ('LT_3', 6241285316.2799587),\n",
       " ('OrderQty_6_S', 5586349971.908824),\n",
       " ('Volume_3', 5330767141.8571348),\n",
       " ('Mes_cat_md', 5112079582.7913113),\n",
       " ('SafetyStk_3_ACUM', 4396607982.7401466),\n",
       " ('MOQ_3_3_MESES', 3871384566.6845489),\n",
       " ('OrderQty_change', 3802969143.2849889),\n",
       " ('Gross_Weight_3', 3800027126.8714066),\n",
       " ('Width_3', 3474552245.4071188),\n",
       " ('Volume_3_3_MESES', 2593546857.0462661),\n",
       " ('ORIGINAL_SUPPLIER_3_md', 2565979043.2704616),\n",
       " ('Height_3', 1701588596.3606842),\n",
       " ('Business_3_md', 1666665099.8742466),\n",
       " ('SUBRANGE_3_md', 1663396020.6872463),\n",
       " ('Length_3_3_MESES', 1440613680.8493929),\n",
       " ('NEAREST_COMP_PRICE_MAX_3', 1418221015.3968906),\n",
       " ('COMP_PRICE_AVG_3', 1408615862.9328928),\n",
       " ('SalOrg_md', 1325100737.4270413),\n",
       " ('MOQ_ACUM_ACUM', 1137056016.2863979),\n",
       " ('Width_3_3_MESES', 1017082525.725615),\n",
       " ('MktABC_3_md', 856127855.05560791),\n",
       " ('COMP_PRICE_MAX_3', 853180732.68836153),\n",
       " ('Gamma_3_md', 735035467.18074119),\n",
       " ('ROP_3', 601817464.82416201),\n",
       " ('Volume_3_ACUM', 566068162.82864892),\n",
       " ('Comp_reference_number_3', 499640233.13008481),\n",
       " ('Manufacturer_3_md', 499633799.07823884),\n",
       " ('Length_3_ACUM', 413287784.5079447),\n",
       " ('Width_ACUM', 296704750.18063432),\n",
       " ('ROP_3_3_MESES', 248775130.43050307),\n",
       " ('Name_Of_Competitor_3', 122138667.06065495),\n",
       " ('ROP_ACUM_ACUM', 69104433.77703616),\n",
       " ('DC_3_md', 0.0),\n",
       " ('LogABC_3_md', 0.0),\n",
       " ('PRODUCT_STATUS_3_md', 0.0)]"
      ]
     },
     "execution_count": 90,
     "metadata": {},
     "output_type": "execute_result"
    }
   ],
   "source": [
    "importancia=lgbm3.feature_importance(importance_type=\"gain\")\n",
    "\n",
    "def impxgb(valores,variables):\n",
    "    dictimp={variables[a]:valores[a] for a in range(0,len(variables)) }\n",
    "    xgimp=sorted(list(dictimp.items()), key=lambda x: x[1],reverse=True)\n",
    "\n",
    "    return xgimp\n",
    "\n",
    "ixg=impxgb(importancia,features)\n",
    "\n",
    "ixg\n",
    "\n",
    "### van a acumulados, \"SafetyStk_3\",'MOQ_3','ROP_3','Volume_3','Length_3','Width_3'\n",
    "\n",
    "\n",
    "### canti"
   ]
  },
  {
   "cell_type": "code",
   "execution_count": 91,
   "metadata": {
    "collapsed": true
   },
   "outputs": [],
   "source": [
    "t=train.loc[train[\"Month\"].isin([\"2017-04\",\"2017-05\",\"2017-06\"]),]"
   ]
  },
  {
   "cell_type": "code",
   "execution_count": 92,
   "metadata": {
    "collapsed": true
   },
   "outputs": [],
   "source": [
    "t.reset_index(drop=True,inplace=True)"
   ]
  },
  {
   "cell_type": "code",
   "execution_count": 93,
   "metadata": {},
   "outputs": [
    {
     "data": {
      "text/plain": [
       "array([ 6.24249893,  9.43971072,  4.64655364, ...,  1.75719769,\n",
       "        1.19075315,  0.65501623])"
      ]
     },
     "execution_count": 93,
     "metadata": {},
     "output_type": "execute_result"
    }
   ],
   "source": [
    "lgbm3.predict(t.loc[:,features].values,num_iteration=lgbm3.best_iteration)"
   ]
  },
  {
   "cell_type": "code",
   "execution_count": 94,
   "metadata": {},
   "outputs": [
    {
     "name": "stderr",
     "output_type": "stream",
     "text": [
      "C:\\ProgramData\\Anaconda3\\lib\\site-packages\\pandas\\core\\indexing.py:337: SettingWithCopyWarning: \n",
      "A value is trying to be set on a copy of a slice from a DataFrame.\n",
      "Try using .loc[row_indexer,col_indexer] = value instead\n",
      "\n",
      "See the caveats in the documentation: http://pandas.pydata.org/pandas-docs/stable/indexing.html#indexing-view-versus-copy\n",
      "  self.obj[key] = _infer_fill_value(value)\n",
      "C:\\ProgramData\\Anaconda3\\lib\\site-packages\\pandas\\core\\indexing.py:517: SettingWithCopyWarning: \n",
      "A value is trying to be set on a copy of a slice from a DataFrame.\n",
      "Try using .loc[row_indexer,col_indexer] = value instead\n",
      "\n",
      "See the caveats in the documentation: http://pandas.pydata.org/pandas-docs/stable/indexing.html#indexing-view-versus-copy\n",
      "  self.obj[item] = s\n"
     ]
    }
   ],
   "source": [
    "t.loc[:,\"demand\"]=lgbm3.predict(t.loc[:,features].values,num_iteration=lgbm3.best_iteration)"
   ]
  },
  {
   "cell_type": "code",
   "execution_count": 95,
   "metadata": {},
   "outputs": [
    {
     "data": {
      "text/plain": [
       "0"
      ]
     },
     "execution_count": 95,
     "metadata": {},
     "output_type": "execute_result"
    }
   ],
   "source": [
    "t[\"demand\"].isnull().sum()"
   ]
  },
  {
   "cell_type": "code",
   "execution_count": 96,
   "metadata": {},
   "outputs": [
    {
     "data": {
      "text/plain": [
       "count    116028.000000\n",
       "mean         17.298252\n",
       "std         128.522889\n",
       "min         -12.535393\n",
       "25%           0.346248\n",
       "50%           0.358867\n",
       "75%           2.472308\n",
       "max        6810.200121\n",
       "Name: demand, dtype: float64"
      ]
     },
     "execution_count": 96,
     "metadata": {},
     "output_type": "execute_result"
    }
   ],
   "source": [
    "t[\"demand\"].describe()"
   ]
  },
  {
   "cell_type": "code",
   "execution_count": 97,
   "metadata": {
    "collapsed": true
   },
   "outputs": [],
   "source": [
    "\n",
    "evaluation=evaluation.merge(t,on=['SalOrg',\"Material\",\"Month\"],how=\"left\")"
   ]
  },
  {
   "cell_type": "code",
   "execution_count": 98,
   "metadata": {},
   "outputs": [
    {
     "data": {
      "text/plain": [
       "count    116028.000000\n",
       "mean         17.298252\n",
       "std         128.522889\n",
       "min         -12.535393\n",
       "25%           0.346248\n",
       "50%           0.358867\n",
       "75%           2.472308\n",
       "max        6810.200121\n",
       "Name: demand, dtype: float64"
      ]
     },
     "execution_count": 98,
     "metadata": {},
     "output_type": "execute_result"
    }
   ],
   "source": [
    "evaluation[\"demand\"].describe()"
   ]
  },
  {
   "cell_type": "code",
   "execution_count": 99,
   "metadata": {
    "collapsed": true
   },
   "outputs": [],
   "source": [
    "evaluation.loc[evaluation[\"demand\"]<0,\"demand\"]=0"
   ]
  },
  {
   "cell_type": "code",
   "execution_count": 100,
   "metadata": {
    "collapsed": true
   },
   "outputs": [],
   "source": [
    "evaluation[\"ID\"]=evaluation[\"ID_x\"]"
   ]
  },
  {
   "cell_type": "code",
   "execution_count": 101,
   "metadata": {
    "collapsed": true
   },
   "outputs": [],
   "source": [
    "evaluation[[\"ID\",\"demand\"]].to_csv(\"submission25-corrected-2.csv\",index=False)"
   ]
  },
  {
   "cell_type": "code",
   "execution_count": null,
   "metadata": {
    "collapsed": true
   },
   "outputs": [],
   "source": []
  }
 ],
 "metadata": {
  "kernelspec": {
   "display_name": "Python 3",
   "language": "python",
   "name": "python3"
  },
  "language_info": {
   "codemirror_mode": {
    "name": "ipython",
    "version": 3
   },
   "file_extension": ".py",
   "mimetype": "text/x-python",
   "name": "python",
   "nbconvert_exporter": "python",
   "pygments_lexer": "ipython3",
   "version": "3.6.1"
  }
 },
 "nbformat": 4,
 "nbformat_minor": 2
}
